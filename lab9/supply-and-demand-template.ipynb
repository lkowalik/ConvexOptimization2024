{
 "cells": [
  {
   "cell_type": "markdown",
   "id": "397f2a1b",
   "metadata": {},
   "source": [
    "## Perturbation and sensitivity analysis\n",
    "\n",
    "Consider a general optimization problem:\n",
    "$$\t\\begin{equation*}\n",
    "\t\\begin{array}{llll}\n",
    "\t\\text{minimize}  & f_0(x) &\\\\\n",
    "\t\\text{subject to}& f_i(x)   & \\le 0,  &i=1 ,\\dots, m\\\\\n",
    "\t& h_i(x)   & = 0,  &i=1 ,\\dots, p\n",
    "\t\\end{array}\n",
    "\t\\end{equation*}$$\n",
    "\n",
    "Now introduce constants $u_i$ and $v_i$ and consider a perturbed problem as follows:\n",
    "\n",
    "$$\t\\begin{equation*}\n",
    "\t\\begin{array}{llll}\n",
    "\t\\text{minimize}  & f_0(x) &\\\\\n",
    "\t\\text{subject to}& f_i(x)   & \\le u_i,  &i=1 ,\\dots, m\\\\\n",
    "\t& h_i(x)   & = v_i,  &i=1 ,\\dots, p\n",
    "\t\\end{array}\n",
    "\t\\end{equation*}$$\t\n",
    "\n",
    "Note that $u_i>0$ corresponds to loosening the corresponding constraint, while $u_i<0$ corresponds to tightening it.\n",
    "\n",
    "Define $p^\\star(u,v)$ as the optimal value of the perturbed problem ($p^\\star(u,v)=+\\infty$ is possible, even if $p^\\star(0,0)$ is finite).\n",
    "\n",
    "### Exercise 1\n",
    "\n",
    "Assume strong duality holds for the original problem. \n",
    "Let $\\lambda^\\star, \\nu^\\star$ be the dual optimum solution.\n",
    "Show that $p^\\star(u,v) \\ge p^\\star(0,0)-{\\lambda^\\star}^T u -{\\nu^\\star}^T v$. \n",
    "\n",
    "### Exercise 2\n",
    "\n",
    "Use the result of Exercise 1 to answer the following questions:\n",
    "- What happens with the objective function if $\\lambda^\\star_i>0$ and we tighten the $i$-th constraint ($u_i<0$)? \n",
    "- What happens with the objective function if $\\lambda^\\star_i>0$ and we loosen the $i$-th constraint ($u_i>0$)? \n",
    "- What happens with the objective function if $\\nu^\\star_i<0$ and $v_i>0$? \n",
    "\n",
    "### Exercise 3\n",
    "\n",
    "Assume strong duality holds for the original problem and additionally $p^\\star(u,v)$ is differentiable at $u=0$, $v=0$.\n",
    "Show that\n",
    "$$\\frac{\\partial p^\\star(0,0)}{\\partial u_i} = -\\lambda_i^\\star, \\quad \\frac{\\partial p^\\star(0,0)}{\\partial v_i} = -\\nu_i^\\star.$$"
   ]
  },
  {
   "cell_type": "markdown",
   "id": "a3b0b097",
   "metadata": {},
   "source": [
    "### Exercise 4: Supply and Demand Chain problem (programming)\n",
    "\n",
    "Consider the graph below. \n",
    "\n",
    "![img](graph.jpg)\n",
    "\n",
    "The graph represents a network for sending goods.\n",
    "Each node $v$ has associated a required supply and demand balance $b_v$ (supply - demand): if $b(v)>0$, then $v$ represents a producer, and otherwise a consumer.\n",
    "Each edge $(u,v)$ labelled with $c_{u,v}$ represents the possibility of sending goods from $u$ to $v$, at the cost of $c_{u,v}$ PLN per kg.\n",
    "Additionally, for each edge we know its capacity which bounds the amount of goods (in kgs) that can be sent through this edge.\n",
    "The goal is to find the flow of goods of minimum cost.\n",
    "\n",
    "Let $n=6$ be the number of vertices and $m=9$ be the number of edges.\n",
    "Let $c\\in \\mathbb{R}^m$, $b\\in \\mathbb{R}^n$, and $capacity\\in \\mathbb{R}^m$ be the corresponding vectors of costs, balances and capacities (specified in the code below).\n",
    "\n",
    "1. Solve the supply and demand chain problem by representing it as the following LP (for an approprietly constructed matrix $A$), using cvxpy:\n",
    "$$\\begin{equation*}\n",
    "\t\\begin{array}{ll}\n",
    "\t\\text{minimize}  & c^Tx\\\\\n",
    "\t\\text{subject to}& Ax = b \\\\\n",
    "\t                 & x \\le capacity\\\\\n",
    "\t                 & x \\ge 0\\\\\n",
    "\t\\end{array}\n",
    "\t\\end{equation*}$$ \n",
    "\n",
    "2. For which edge modifying its capacity value will have the biggest effect on the value of the objective function? Will this value increase or decrease if we decrease the capacity? Answer this question using the claim from Exercise 3. (If ``constraints`` store your list of constraints, ``constraints[i].dual_value`` stores the value of the corresponding dual variable in an optimal dual solution). \n",
    "\n",
    "\n",
    "3. Verify your answers experimentally: \n",
    "- for $\\epsilon=0.1$, for each edge $e$, increase $capacity[e]$ by $\\epsilon$, solve the new problem and check how much the objecive changed. \n",
    "- try the same, but with decreasing\n",
    "- what happens for larger $\\epsilon = 0.5, 1, 2, 5, 10$?"
   ]
  },
  {
   "cell_type": "code",
   "execution_count": 107,
   "id": "9eccaca2",
   "metadata": {},
   "outputs": [
    {
     "name": "stdout",
     "output_type": "stream",
     "text": [
      "edges = [(0, 1), (1, 2), (0, 3), (1, 3), (1, 4), (1, 5), (2, 5), (3, 4), (4, 5)]\n"
     ]
    }
   ],
   "source": [
    "import cvxpy as cp\n",
    "import numpy as np\n",
    "\n",
    "c = [2, 5, 5, 2, 7, 9, 2, 4, 3]\n",
    "b = [10.0, 1, -2, -3, 4, -10]\n",
    "capacity = [7, 4, 5, 5, 2, 6, 7, 4, 5]\n",
    "\n",
    "edges_l = ('AB', 'BC', 'AD', 'BD', 'BE', 'BF', 'CF', 'DE', 'EF')\n",
    "edges = list(map(lambda s: tuple(map(lambda c: ord(c)-ord('A'), s)), edges_l))\n",
    "print(f'edges = {edges}')\n",
    "\n",
    "m = len(c)\n",
    "n = len(b)"
   ]
  },
  {
   "cell_type": "code",
   "execution_count": null,
   "id": "2d743cbc",
   "metadata": {},
   "outputs": [],
   "source": [
    "# your code goes here"
   ]
  }
 ],
 "metadata": {
  "kernelspec": {
   "display_name": "Python 3 (ipykernel)",
   "language": "python",
   "name": "python3"
  },
  "language_info": {
   "codemirror_mode": {
    "name": "ipython",
    "version": 3
   },
   "file_extension": ".py",
   "mimetype": "text/x-python",
   "name": "python",
   "nbconvert_exporter": "python",
   "pygments_lexer": "ipython3",
   "version": "3.10.12"
  }
 },
 "nbformat": 4,
 "nbformat_minor": 5
}
