{
 "cells": [
  {
   "cell_type": "markdown",
   "metadata": {},
   "source": [
    "# Fun with barrier method\n",
    "\n",
    "Below you can find a Python code of the barrier method (as introduced in the lecture) for a linear program in the form\n",
    "\n",
    "$$\\begin{array}{ll@{\\quad}l}\n",
    "\t\\text{minimize}  & cx &\\\\\n",
    "\t\\text{subject to}& Ax   \\le b. \\\\\n",
    "\t\\end{array}$$ \n",
    "    \n",
    "Begin from understanding what's going on."
   ]
  },
  {
   "cell_type": "code",
   "execution_count": 6,
   "metadata": {},
   "outputs": [],
   "source": [
    "import numpy as np\n",
    "import matplotlib.pyplot as plt\n",
    "import time"
   ]
  },
  {
   "cell_type": "code",
   "execution_count": 14,
   "metadata": {},
   "outputs": [],
   "source": [
    "def backtracking_line_search(f, in_domain_of_f, df, x, dx, alpha=0.1, beta=0.8):\n",
    "    \"\"\"\n",
    "    Perform backtracking line search.\n",
    "    \n",
    "    Args:\n",
    "        f: The objective function.\n",
    "        df: The gradient of the objective function.\n",
    "        x: The current point.\n",
    "        dx: The current direction.\n",
    "        alpha: The proportionality constant.\n",
    "        beta: The shrinkage factor.\n",
    "    \"\"\"\n",
    "    t = 1\n",
    "    while not in_domain_of_f(x + t*dx):\n",
    "        t *= beta\n",
    "    while f(x + t * dx) > f(x) + alpha * t * np.dot(df(x), dx):\n",
    "        t *= beta\n",
    "\n",
    "    return t"
   ]
  },
  {
   "cell_type": "code",
   "execution_count": 15,
   "metadata": {},
   "outputs": [],
   "source": [
    "def newtons_method(f, in_domain_of_f, df, ddf, x, eps=1e-4):\n",
    "    \"\"\"\n",
    "    Perform Newton's method to minimize a function.\n",
    "    \n",
    "    Args:\n",
    "        f: The objective function.\n",
    "        df: The gradient of the objective function.\n",
    "        ddf: The Hessian of the objective function.\n",
    "        x: The initial point.\n",
    "        eps: The tolerance for stopping criterion.\n",
    "    \"\"\"\n",
    "    steps = [x.copy()]\n",
    "    while True: \n",
    "        dx = -np.linalg.solve(ddf(x), df(x))\n",
    "        lambda_sq = -df(x) @ dx\n",
    "        if lambda_sq/2 <= eps:\n",
    "            break\n",
    "        t = backtracking_line_search(f, in_domain_of_f, df, x, dx)\n",
    "        x += t * dx\n",
    "        steps.append(x.copy())\n",
    "\n",
    "    return x, steps"
   ]
  },
  {
   "cell_type": "code",
   "execution_count": 16,
   "metadata": {},
   "outputs": [],
   "source": [
    "def barrier_method(c, A, b, x_0, eps=1e-4, mu=20, t0=1, phase_one=False):\n",
    "    \"\"\"\n",
    "    Perform barrier method to solve a linear programming problem.\n",
    "    \n",
    "    minimize c^Tx\n",
    "    subject to Ax <= b\n",
    "    \n",
    "    Args:\n",
    "        c: An ndarray of shape (n, ). The coefficient of the objective function.\n",
    "        A: An ndarray of shape (m, n). The coefficient matrix of the inequality constraints.\n",
    "        b: An ndarray of shape (m, ). The RHS of the inequality constraints.\n",
    "        x_0: An ndarray of shape (n, ). The initial strictly feasible solution.\n",
    "        eps: The tolerance for stopping criterion.\n",
    "        mu: The parameter for updating t.\n",
    "        t0: The initial t.\n",
    "    \"\"\"\n",
    "    m, n = A.shape\n",
    "    x = x_0.copy()\n",
    "\n",
    "    steps = [x.copy()]\n",
    "    newt_steps = []\n",
    "    t = t0\n",
    "    \n",
    "    while (phase_one and x[-1]>0) or (not phase_one and m / t >= eps):\n",
    "        # centering step\n",
    "        # define new objective function, its derivative and second derivative\n",
    "        f = lambda x: t * c @ x - np.sum(np.log(b - A @ x))\n",
    "        in_domain_of_f = lambda x: all(b - A @ x > 0)\n",
    "        df = lambda x: t * c + np.sum(A.T / (b - A @ x), axis=1)\n",
    "        ddf = lambda x: (A.T / (b - A @ x)**2) @ A\n",
    "\n",
    "        # perform Newton's method\n",
    "        x, newt_steps_here = newtons_method(f, in_domain_of_f, df, ddf, x)\n",
    "        steps.append(x.copy())\n",
    "        newt_steps.append(newt_steps_here)\n",
    "\n",
    "        # update t\n",
    "        t *= mu\n",
    "\n",
    "    return x, steps, newt_steps\n"
   ]
  },
  {
   "cell_type": "markdown",
   "metadata": {},
   "source": [
    "Below is a function for drawing iterations for 2d problems."
   ]
  },
  {
   "cell_type": "code",
   "execution_count": 17,
   "metadata": {},
   "outputs": [],
   "source": [
    "def plot_iterations(vertices, steps1, steps2):\n",
    "    xs, ys = zip(*(vertices + [vertices[0]])) #create lists of x and y values\n",
    "\n",
    "    plt.fill(xs,ys,facecolor='lightblue', edgecolor='tab:blue', linewidth=1)\n",
    "    if len(steps1) > 0:\n",
    "        plt.plot(steps1[0][0], steps1[0][1], 'o', color=(1,0.2,0.2))\n",
    "    for x in steps1:\n",
    "        plt.plot(x[0], x[1], '.', color=(0.8,0.2,0.2))\n",
    "    if len(steps2) > 0:\n",
    "        plt.plot(steps2[0][0], steps2[0][1], 'o', color=(0.2,1,0.2))\n",
    "    for x in steps2:\n",
    "        plt.plot(x[0], x[1], '.', color=(0.2,0.5,0.2))"
   ]
  },
  {
   "cell_type": "markdown",
   "metadata": {},
   "source": [
    "Now we create a 2d problem, by giving vertices of a polygon (so that it is easier to play with it)"
   ]
  },
  {
   "cell_type": "code",
   "execution_count": 18,
   "metadata": {},
   "outputs": [
    {
     "data": {
      "text/plain": [
       "(array([[-2.        ,  6.66666667],\n",
       "        [ 2.46666667,  2.53333333],\n",
       "        [ 0.2       , -0.2       ],\n",
       "        [ 0.        , -3.        ],\n",
       "        [-0.66666667, -6.        ]]),\n",
       " array([16.44444444,  8.4       ,  0.6       ,  0.        ,  0.        ]),\n",
       " array([ 0, -1]))"
      ]
     },
     "execution_count": 18,
     "metadata": {},
     "output_type": "execute_result"
    }
   ],
   "source": [
    "vertices = [(0,0), (3,0), (3.2, 0.2), (2/3,2+2/3),  (-6, 2/3)]\n",
    "vertices = vertices[::-1]\n",
    "edges = zip(vertices, vertices[1:] + [vertices[0]])\n",
    "\n",
    "m = len(vertices)\n",
    "n = 2\n",
    "\n",
    "A = np.zeros((m, n))\n",
    "b = np.zeros(m)\n",
    "i = 0\n",
    "\n",
    "for (x1, y1), (x2, y2) in edges:\n",
    "    dx = x2 - x1\n",
    "    dy = y2 - y1\n",
    "    \n",
    "    A[i] = [-dy, dx]\n",
    "    b[i] = dx*y1 - dy*x1\n",
    "    i += 1\n",
    "    \n",
    "c = np.array([0.7, 1])   \n",
    "c = np.array([0, -1])   \n",
    "x_0 = np.array([1.9, 0.1])\n",
    "    \n",
    "A, b, c"
   ]
  },
  {
   "cell_type": "markdown",
   "metadata": {},
   "source": [
    "## Playing with a 2d instance\n",
    "\n",
    "Now we solve the 2d problem. \n",
    "1. Explain what you see. Why the green dots (outer iterations) are first so dense, then a bit sprarser, and finally again dense?\n",
    "2. Play with different objective functions, starting points and parameters ```mu```, ```t0```."
   ]
  },
  {
   "cell_type": "code",
   "execution_count": 19,
   "metadata": {
    "scrolled": true
   },
   "outputs": [
    {
     "data": {
      "image/png": "[encoded data removed]",
      "text/plain": [
       "<Figure size 640x480 with 1 Axes>"
      ]
     },
     "metadata": {},
     "output_type": "display_data"
    }
   ],
   "source": [
    "# Solve problem\n",
    "x_opt, steps, newt_steps = barrier_method(c, A, b, x_0, 1e-5, 1.3, 0.1)\n",
    "plot_iterations(vertices, newt_steps[0], steps)"
   ]
  },
  {
   "cell_type": "markdown",
   "metadata": {},
   "source": [
    "## Large dimension intance\n",
    "\n",
    "Below we create a random LP. \n",
    "\n",
    "1. Solve it using our barrier solver and compare the result to that found by gurobipy/cvxpy.\n",
    "2. Play with parameters ```mu```, ```t0``` to get best results\n",
    "3. (optional) Visualize the number of iterations of Newton method in subsequent outer iterations of barrier method. What do you observe? How these numbers behave when you change ```mu```?"
   ]
  },
  {
   "cell_type": "code",
   "execution_count": null,
   "metadata": {},
   "outputs": [],
   "source": [
    "m = 1000\n",
    "n = 200\n",
    "\n",
    "v = np.random.rand(n)*10 \n",
    "A = np.random.rand(m//2,n) - 0.5\n",
    "A = np.append(A, -A, axis=0)\n",
    "b = np.maximum(A@v,-A@v) + np.random.rand(m) + 0.1\n",
    "c = np.random.rand(n) - 0.5"
   ]
  },
  {
   "cell_type": "markdown",
   "metadata": {},
   "source": [
    "## Adding Phase I\n",
    "\n",
    "So far, we assumed that one magically gets a strictly feasible solution. Extend the code adding Phase I which finds the initial strictly feasible solution. \n",
    "1. Run the new code on the small instance and draw the iterations of both phases using ```plot_iterations```. \n",
    "2. Run the new code on the large instance\n",
    "3. (optional) Visualize the number of iterations of Newton method on the large instance in subsequent outer iterations of barrier method. What do you observe? How these numbers behave when you change mu?"
   ]
  },
  {
   "cell_type": "code",
   "execution_count": 20,
   "metadata": {},
   "outputs": [],
   "source": [
    "def two_phase_get_strictly_feasible(A, b, c, mu = 1.3, t0 = 0.1):\n",
    "    # ...your code goes here\n",
    "    \n",
    "    # you should return lists of points from phase 1 and phase 2 (the last point of the second list is the solution)\n",
    "    return steps1, steps2 "
   ]
  }
 ],
 "metadata": {
  "kernelspec": {
   "display_name": "Python 3",
   "language": "python",
   "name": "python3"
  },
  "language_info": {
   "codemirror_mode": {
    "name": "ipython",
    "version": 3
   },
   "file_extension": ".py",
   "mimetype": "text/x-python",
   "name": "python",
   "nbconvert_exporter": "python",
   "pygments_lexer": "ipython3",
   "version": "3.8.10"
  }
 },
 "nbformat": 4,
 "nbformat_minor": 5
}
