{
 "cells": [
  {
   "cell_type": "markdown",
   "id": "c9a9c27b",
   "metadata": {},
   "source": [
    "$\\begin{array}{ll@{\\hspace{15mm}}l}\n",
    "\t\t\t\\text{maximize}          & {x_1+2x_2} &  \\\\\n",
    "\t\t\t\\text{subject to}& {x_2 \\le x_1 + 2}\\\\\n",
    "\t\t\t& {2x_1 + x_2 \\le 4}\\\\\n",
    "\t\t\t& {2x_2 + x_1 \\ge 0}\\\\\n",
    "\t\t\t& x_2 \\ge 0\n",
    "\t\t\t\\end{array}$         "
   ]
  },
  {
   "attachments": {},
   "cell_type": "markdown",
   "id": "29922324",
   "metadata": {},
   "source": [
    "![](2dlp.png)"
   ]
  },
  {
   "cell_type": "code",
   "execution_count": 2,
   "id": "21fe71d0",
   "metadata": {},
   "outputs": [],
   "source": [
    "import gurobipy as gp\n",
    "from gurobipy import GRB"
   ]
  },
  {
   "cell_type": "code",
   "execution_count": 3,
   "id": "9f2a952c",
   "metadata": {},
   "outputs": [
    {
     "name": "stdout",
     "output_type": "stream",
     "text": [
      "Set parameter Username\n",
      "Academic license - for non-commercial use only - expires 2024-11-10\n",
      "Gurobi Optimizer version 10.0.0 build v10.0.0rc2 (linux64)\n",
      "\n",
      "CPU model: Intel(R) Core(TM) i5-7200U CPU @ 2.50GHz, instruction set [SSE2|AVX|AVX2]\n",
      "Thread count: 2 physical cores, 4 logical processors, using up to 4 threads\n",
      "\n",
      "Optimize a model with 4 rows, 2 columns and 7 nonzeros\n",
      "Model fingerprint: 0x72af136b\n",
      "Coefficient statistics:\n",
      "  Matrix range     [1e+00, 2e+00]\n",
      "  Objective range  [1e+00, 2e+00]\n",
      "  Bounds range     [0e+00, 0e+00]\n",
      "  RHS range        [2e+00, 4e+00]\n",
      "Presolve removed 4 rows and 2 columns\n",
      "Presolve time: 0.01s\n",
      "Presolve: All rows and columns removed\n",
      "Iteration    Objective       Primal Inf.    Dual Inf.      Time\n",
      "       0    6.0000000e+00   0.000000e+00   0.000000e+00      0s\n",
      "\n",
      "Solved in 0 iterations and 0.01 seconds (0.00 work units)\n",
      "Optimal objective  6.000000000e+00\n",
      "Maximize\n",
      "  x[1] + 2.0 x[2]\n",
      "Subject To\n",
      "  R0: -1.0 x[1] + x[2] <= 2\n",
      "  R1: 2.0 x[1] + x[2] <= 4\n",
      "  R2: x[1] + 2.0 x[2] >= 0\n",
      "  R3: x[2] >= 0\n",
      "Bounds\n",
      "  x[1] free\n",
      "  x[2] free\n",
      "None\n",
      "x[1] == 0.6666666666666666\n",
      "x[2] == 2.6666666666666665\n",
      "6.0\n",
      "1.3333333333333333\n"
     ]
    }
   ],
   "source": [
    "lp = gp.Model(\"simple lp from lecture slides\")\n",
    "\n",
    "# creates a dictionary of variables indexed by the elements of the list in the first param\n",
    "# a single variable can be created using lp.addVar\n",
    "x = lp.addVars([1,2], name='x', lb=-GRB.INFINITY)\n",
    "\n",
    "# note that we have to set lb (lower bound) because by default it is 0\n",
    "# on the other hand, default ub (upper bound) is GRB.INFINITY\n",
    "# there is also parameter vtype=GRB.CONTINUOUS; other options: GRB.BINARY, GRB.INTEGER (not convex any more!)\n",
    "\n",
    "\n",
    "lp.addConstr(x[2] <= x[1] + 2)\n",
    "lp.addConstr(2*x[1] + x[2] <= 4)\n",
    "lp.addConstr(2*x[2] + x[1] >= 0)\n",
    "lp.addConstr(x[2] >= 0)\n",
    "\n",
    "lp.setObjective(x[1]+2*x[2], GRB.MAXIMIZE)\n",
    "\n",
    "# tu uruchamiamy solver\n",
    "lp.optimize()\n",
    "\n",
    "# (zbędne) tu wyświetlamy nasz LP\n",
    "print(lp.display())\n",
    "\n",
    "# wartości zmiennych\n",
    "for i in [1,2]:\n",
    "    print (f'x[{i}] == {x[i].X}')\n",
    "    \n",
    "# wartość funkcji celu    \n",
    "print(lp.getObjective().getValue())    \n",
    "\n",
    "# za pomocą getValue możemy wyliczyć wartość dowolnego wyrażenia\n",
    "print((x[2]-2*x[1]).getValue()) "
   ]
  }
 ],
 "metadata": {
  "kernelspec": {
   "display_name": "Python 3 (ipykernel)",
   "language": "python",
   "name": "python3"
  },
  "language_info": {
   "codemirror_mode": {
    "name": "ipython",
    "version": 3
   },
   "file_extension": ".py",
   "mimetype": "text/x-python",
   "name": "python",
   "nbconvert_exporter": "python",
   "pygments_lexer": "ipython3",
   "version": "3.8.10"
  }
 },
 "nbformat": 4,
 "nbformat_minor": 5
}
