{
 "cells": [
  {
   "cell_type": "markdown",
   "id": "c9a9c27b",
   "metadata": {},
   "source": [
    "$\\begin{array}{ll@{\\hspace{15mm}}l}\n",
    "\t\t\t\\text{maximize}          & {x_1+2x_2} &  \\\\\n",
    "\t\t\t\\text{subject to}& {x_2 \\le x_1 + 2}\\\\\n",
    "\t\t\t& {2x_1 + x_2 \\le 4}\\\\\n",
    "\t\t\t& {2x_2 + x_1 \\ge 0}\\\\\n",
    "\t\t\t& x_2 \\ge 0\n",
    "\t\t\t\\end{array}$         "
   ]
  },
  {
   "cell_type": "markdown",
   "id": "29922324",
   "metadata": {},
   "source": [
    "![](2dlp.png)"
   ]
  },
  {
   "cell_type": "code",
   "execution_count": 2,
   "id": "21fe71d0",
   "metadata": {},
   "outputs": [],
   "source": [
    "import gurobipy as gp\n",
    "from gurobipy import GRB"
   ]
  },
  {
   "cell_type": "code",
   "execution_count": 1,
   "id": "9f2a952c",
   "metadata": {},
   "outputs": [
    {
     "ename": "NameError",
     "evalue": "name 'gp' is not defined",
     "output_type": "error",
     "traceback": [
      "\u001b[0;31m---------------------------------------------------------------------------\u001b[0m",
      "\u001b[0;31mNameError\u001b[0m                                 Traceback (most recent call last)",
      "Cell \u001b[0;32mIn[1], line 1\u001b[0m\n\u001b[0;32m----> 1\u001b[0m lp \u001b[38;5;241m=\u001b[39m \u001b[43mgp\u001b[49m\u001b[38;5;241m.\u001b[39mModel(\u001b[38;5;124m\"\u001b[39m\u001b[38;5;124msimple lp from lecture slides\u001b[39m\u001b[38;5;124m\"\u001b[39m)\n\u001b[1;32m      3\u001b[0m \u001b[38;5;66;03m# creates a dictionary of variables indexed by the elements of the list in the first param\u001b[39;00m\n\u001b[1;32m      4\u001b[0m \u001b[38;5;66;03m# a single variable can be created using lp.addVar\u001b[39;00m\n\u001b[1;32m      5\u001b[0m x \u001b[38;5;241m=\u001b[39m lp\u001b[38;5;241m.\u001b[39maddVars([\u001b[38;5;241m1\u001b[39m,\u001b[38;5;241m2\u001b[39m], name\u001b[38;5;241m=\u001b[39m\u001b[38;5;124m'\u001b[39m\u001b[38;5;124mx\u001b[39m\u001b[38;5;124m'\u001b[39m, lb\u001b[38;5;241m=\u001b[39m\u001b[38;5;241m-\u001b[39mGRB\u001b[38;5;241m.\u001b[39mINFINITY)\n",
      "\u001b[0;31mNameError\u001b[0m: name 'gp' is not defined"
     ]
    }
   ],
   "source": [
    "lp = gp.Model(\"simple lp from lecture slides\")\n",
    "\n",
    "# creates a dictionary of variables indexed by the elements of the list in the first param\n",
    "# a single variable can be created using lp.addVar\n",
    "x = lp.addVars([1,2], name='x', lb=-GRB.INFINITY)\n",
    "\n",
    "# note that we have to set lb (lower bound) because by default it is 0\n",
    "# on the other hand, default ub (upper bound) is GRB.INFINITY\n",
    "# there is also parameter vtype=GRB.CONTINUOUS; other options: GRB.BINARY, GRB.INTEGER (not convex any more!)\n",
    "\n",
    "\n",
    "lp.addConstr(x[2] <= x[1] + 2)\n",
    "lp.addConstr(2*x[1] + x[2] <= 4)\n",
    "lp.addConstr(2*x[2] + x[1] >= 0)\n",
    "lp.addConstr(x[2] >= 0)\n",
    "\n",
    "# in the common case when the model is built auomatically from data \n",
    "# it is very useful to use addConstrs together with Python's list comprehensions, e.g.:\n",
    "\n",
    "#lp.addConstrs(x[i] >= 0 for i in range(n))\n",
    "\n",
    "lp.setObjective(x[1]+2*x[2], GRB.MAXIMIZE)\n",
    "\n",
    "# tu uruchamiamy solver\n",
    "lp.optimize()\n",
    "\n",
    "# (zbędne) tu wyświetlamy nasz LP\n",
    "print(lp.display())\n",
    "\n",
    "# wartości zmiennych\n",
    "for i in [1,2]:\n",
    "    print (f'x[{i}] == {x[i].X}')\n",
    "    \n",
    "# wartość funkcji celu    \n",
    "print(lp.getObjective().getValue())    \n",
    "\n",
    "# za pomocą getValue możemy wyliczyć wartość dowolnego wyrażenia\n",
    "print((x[2]-2*x[1]).getValue()) "
   ]
  }
 ],
 "metadata": {
  "kernelspec": {
   "display_name": "Python 3 (ipykernel)",
   "language": "python",
   "name": "python3"
  },
  "language_info": {
   "codemirror_mode": {
    "name": "ipython",
    "version": 3
   },
   "file_extension": ".py",
   "mimetype": "text/x-python",
   "name": "python",
   "nbconvert_exporter": "python",
   "pygments_lexer": "ipython3",
   "version": "3.8.10"
  }
 },
 "nbformat": 4,
 "nbformat_minor": 5
}
