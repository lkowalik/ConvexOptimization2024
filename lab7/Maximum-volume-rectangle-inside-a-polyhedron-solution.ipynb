{
 "cells": [
  {
   "cell_type": "markdown",
   "id": "0f36b414",
   "metadata": {},
   "source": [
    "# Maximum area rectangle inside a polygon\n",
    "\n",
    "\n",
    "Find and draw the maximum area rectangle enclosed in a polygon given as a list of vertices. For your convenience this time we included the code which computes the half-planes that define the polygon.\n",
    "\n",
    "Your formulation should not involve an exponential number of constraints. "
   ]
  },
  {
   "cell_type": "code",
   "execution_count": 11,
   "id": "8212b6d7",
   "metadata": {},
   "outputs": [],
   "source": [
    "import numpy as np\n",
    "import gurobipy as gp\n",
    "import matplotlib.pyplot as plt\n",
    "import math\n",
    "from gurobipy import GRB"
   ]
  },
  {
   "cell_type": "code",
   "execution_count": 30,
   "id": "8711616b",
   "metadata": {},
   "outputs": [],
   "source": [
    "vertices = [(0,0), (4,0), (2/3,2+2/3), (-4/3, 2/3)]\n",
    "\n",
    "vertices = vertices[::-1]\n",
    "edges = zip(vertices, vertices[1:] + [vertices[0]])\n",
    "a = []\n",
    "b = []\n",
    "for (x1, y1), (x2, y2) in edges:\n",
    "    # the line ax=b through (x1, y1), (x2, y2) satisfies a*[dx,dy]=0, so a=[-dy,dx] is fine;\n",
    "    # then b = dx*y1 - dy*x1\n",
    "    dx = x2 - x1\n",
    "    dy = y2 - y1\n",
    "    a.append((-dy,dx))\n",
    "    b.append(dx*y1 - dy*x1)"
   ]
  },
  {
   "cell_type": "code",
   "execution_count": 31,
   "id": "f8a8e51e",
   "metadata": {},
   "outputs": [
    {
     "name": "stdout",
     "output_type": "stream",
     "text": [
      "Warning for adding constraints: zero or small (< 1e-13) coefficients, ignored\n",
      "Gurobi Optimizer version 10.0.0 build v10.0.0rc2 (linux64)\n",
      "\n",
      "CPU model: Intel(R) Core(TM) i5-7200U CPU @ 2.50GHz, instruction set [SSE2|AVX|AVX2]\n",
      "Thread count: 2 physical cores, 4 logical processors, using up to 4 threads\n",
      "\n",
      "Optimize a model with 22 rows, 15 columns and 44 nonzeros\n",
      "Model fingerprint: 0x7bb9242d\n",
      "Model has 1 quadratic constraint\n",
      "Coefficient statistics:\n",
      "  Matrix range     [7e-01, 4e+00]\n",
      "  QMatrix range    [1e+00, 1e+00]\n",
      "  Objective range  [1e+00, 1e+00]\n",
      "  Bounds range     [0e+00, 0e+00]\n",
      "  RHS range        [4e+00, 1e+01]\n",
      "Presolve removed 16 rows and 7 columns\n",
      "Presolve time: 0.01s\n",
      "Presolved: 9 rows, 10 columns, 21 nonzeros\n",
      "Presolved model has 1 second-order cone constraint\n",
      "Ordering time: 0.00s\n",
      "\n",
      "Barrier statistics:\n",
      " AA' NZ     : 1.700e+01\n",
      " Factor NZ  : 4.500e+01\n",
      " Factor Ops : 2.850e+02 (less than 1 second per iteration)\n",
      " Threads    : 1\n",
      "\n",
      "                  Objective                Residual\n",
      "Iter       Primal          Dual         Primal    Dual     Compl     Time\n",
      "   0  -0.00000000e+00  4.49997813e+00  3.35e-01 1.23e+00  9.29e-01     0s\n",
      "   1   3.50698998e-01  1.89229592e+00  2.21e-03 2.04e-01  1.68e-01     0s\n",
      "   2   1.69558264e+00  1.40968014e+00  1.47e-07 8.97e-02  4.62e-02     0s\n",
      "   3   1.78507971e+00  1.79304941e+00  1.68e-13 3.20e-04  6.98e-04     0s\n",
      "   4   1.78883954e+00  1.78889930e+00  2.47e-13 1.75e-06  4.77e-06     0s\n",
      "   5   1.78885395e+00  1.78885567e+00  2.87e-11 6.49e-08  1.48e-07     0s\n",
      "\n",
      "Barrier solved model in 5 iterations and 0.04 seconds (0.00 work units)\n",
      "Optimal objective 1.78885395e+00\n",
      "\n"
     ]
    }
   ],
   "source": [
    "n = len(a)\n",
    "d = 2  # dimension: in future we will extend the solution for any d, so let's be prepared.\n",
    "m = gp.Model()\n",
    "# our rectangle is the set {x in R^d: l <= x <= u}\n",
    "l = m.addMVar(d,lb=[-GRB.INFINITY]*d)\n",
    "u = m.addMVar(d,lb=[-GRB.INFINITY]*d)\n",
    "v = m.addVar() #volume/area\n",
    "s = m.addMVar(d) #sides\n",
    "t = m.addMVar((n,d)) #sides\n",
    "\n",
    "m.addConstrs(sum(t[i][j] for j in range(d))<=b[i] for i in range(n))\n",
    "m.addConstrs(a[i][j]*u[j] <= t[i][j] for i in range(n) for j in range(d))\n",
    "m.addConstrs(a[i][j]*l[j] <= t[i][j] for i in range(n) for j in range(d))\n",
    "m.addConstr(s == u - l)\n",
    "m.addConstr(s[0]*s[1] >= v*v)\n",
    "\n",
    "m.setObjective(v, GRB.MAXIMIZE)\n",
    "m.optimize()"
   ]
  },
  {
   "cell_type": "code",
   "execution_count": 32,
   "id": "2ed01de1",
   "metadata": {},
   "outputs": [
    {
     "data": {
      "text/plain": [
       "3.1999984721474823"
      ]
     },
     "execution_count": 32,
     "metadata": {},
     "output_type": "execute_result"
    }
   ],
   "source": [
    "m.ObjVal**d"
   ]
  },
  {
   "cell_type": "code",
   "execution_count": 33,
   "id": "32a618c6",
   "metadata": {},
   "outputs": [
    {
     "data": {
      "image/png": "[encoded data removed]",
      "text/plain": [
       "<Figure size 640x480 with 1 Axes>"
      ]
     },
     "metadata": {},
     "output_type": "display_data"
    },
    {
     "data": {
      "text/plain": [
       "<Figure size 640x480 with 0 Axes>"
      ]
     },
     "metadata": {},
     "output_type": "display_data"
    }
   ],
   "source": [
    "import matplotlib.pyplot as plt\n",
    "xs, ys = zip(*(vertices + [vertices[0]])) #create lists of x and y values\n",
    "\n",
    "plt.figure()\n",
    "plt.axis('equal')\n",
    "plt.fill(xs,ys,facecolor='lightblue', edgecolor='tab:blue', linewidth=1) \n",
    "rect = plt.Rectangle((l.X[0], l.X[1]), u.X[0] - l.X[0], u.X[1] - l.X[1], linewidth=1, edgecolor='r', facecolor='none')\n",
    "plt.gca().add_patch(rect)\n",
    "plt.show()\n",
    "plt.savefig('chebyshev.pdf')"
   ]
  },
  {
   "cell_type": "markdown",
   "id": "407bd2bc",
   "metadata": {},
   "source": [
    "# Part two: Maximum volume rectangle inside a polyhedron\n",
    "\n",
    "\n",
    "Consider the optimization problem, where we are given a polyhedron $$\\mathcal{P} = \\{x\\,|\\,Ax \\preceq b\\}$$ and we want to find the $d$-dimensional rectangle\n",
    "  $$\\mathcal{R}= \\{x\\in \\mathbf{R}^d \\,|\\, l \\preceq x \\preceq u \\} $$\n",
    "of maximum volume, enclosed in $P$. (The variables are $l,u \\in \\mathbf{R}^d$.)\n",
    "\n",
    "Formulate this problem as an SOCP program with $O(dm)$ constraints, where $d$ is the number of rows of $A$.\n",
    "\n",
    "1. Code your program in ``cvxpy`` and solve the problem for the $A$ and $b$ given in the code below. Hint: for the objective function you can use ``cvxpy.geo_mean(x)``. Print the maximum volume. \n",
    "2. (for keen programmers) Code your program directly in ``gurobipy`` (or other solver that supports SOCP) and solve the problem for the $A$ and $b$ given in the code below."
   ]
  },
  {
   "cell_type": "code",
   "execution_count": 2,
   "id": "19a6b09d",
   "metadata": {},
   "outputs": [
    {
     "name": "stdout",
     "output_type": "stream",
     "text": [
      "(70, 40)\n",
      "(70, 1)\n"
     ]
    }
   ],
   "source": [
    "m = 70\n",
    "n = 40\n",
    "A = np.array([[1.2,- 1.5,0.29,- 1.1,0.47,- 0.53,1.9,- 0.59,0.4,- 0.38,0.73,- 0.49,0.17,0.66,- 0.3,0.43,- 0.17,- 0.74,1.7,- 1.7,0.25,1.1,- 0.49,- 0.033,- 0.5,0.33,- 0.68,0.6,- 0.47,- 1.8,- 0.38,1.3,- 1.2,0.71,0.22,- 0.75,0.65,- 0.64,1.6,0.42],[0.56,- 0.69,1.1,- 0.94,0.64,- 1.6,- 0.32,- 0.032,- 0.43,- 1.7,- 1,- 0.85,- 0.25,- 0.18,1,1,0.13,0.14,- 0.34,0.11,0.5,0.75,- 1.3,- 0.41,- 1.3,0.23,- 1.8,- 0.84,0.95,0.62,0.019,0.44,0.53,- 0.6,0.77,0.72,- 0.93,0.22,- 1.8,- 0.084],[0.34,- 0.022,- 0.33,0.088,1.4,0.82,- 0.25,- 1.7,- 1.5,0.64,- 0.73,- 1.4,- 1.3,- 0.85,- 1.4,- 0.39,0.085,- 1.7,- 1.6,0.76,0.0044,- 1,- 1.4,- 1.5,0.6,- 0.72,- 0.16,- 1.5,0.71,0.61,- 0.12,- 2.2,0.48,- 0.029,0.13,- 0.83,1.6,- 0.13,0.7,0.54],[1.4,0.18,- 0.074,- 0.7,0.043,0.45,- 0.31,0.81,0.66,1.2,0.23,- 0.48,- 0.36,1.6,0.27,- 0.18,- 0.42,- 0.63,0.41,- 0.89,- 0.55,1.8,- 1.3,0.52,0.37,0.014,- 0.63,0.079,- 1.3,- 1,- 0.73,- 0.034,- 1.7,0.95,- 0.39,0.71,0.95,- 0.88,- 0.92,- 1.8],[- 0.49,- 0.53,- 0.16,0.3,- 0.025,- 1.3,2.1,0.5,- 0.27,0.91,- 1.3,- 0.86,- 0.36,- 0.56,- 0.13,2.1,- 0.71,0.29,1,- 0.085,- 1.1,0.24,0.054,0.38,- 0.082,- 0.88,- 0.19,1.2,0.36,0.056,0.95,- 0.16,0.11,0.33,- 0.38,1.3,1.1,- 0.34,1.7,- 0.14],[- 0.067,- 1.3,0.83,- 0.064,- 0.56,0.46,0.47,2.4,- 0.32,- 0.37,1,- 0.41,0.74,- 1.9,- 0.095,1,- 1.8,- 0.78,1.6,0.32,- 1,- 1.9,2.1,- 0.83,0.14,- 1.4,0.46,- 0.21,- 1.3,- 1.4,- 0.39,0.99,0.17,- 0.33,1.6,0.87,- 0.25,- 0.69,- 0.88,- 0.34],[- 1.9,- 0.21,- 2.8,0.64,- 1.1,0.21,- 0.21,0.84,0.56,- 1,- 0.74,- 1.3,0.91,- 0.53,- 0.53,- 0.00074,0.99,2.5,- 1.2,- 0.4,0.21,2.7,0.83,- 0.97,2.4,- 2.2,- 0.96,- 0.077,0.31,0.39,0.9,0.14,0.64,- 1.7,- 0.48,- 0.87,1.1,0.8,- 0.5,- 0.27],[- 0.34,0.34,1.5,- 0.36,- 0.6,0.61,- 1.6,0.71,- 0.27,- 0.38,- 0.066,0.084,0.26,- 0.72,- 0.47,- 1.4,0.69,- 0.3,- 0.43,- 0.53,0.92,- 0.33,1.3,1.5,- 0.86,0.86,- 0.99,- 0.95,- 1.4,- 1.6,- 1.5,0.24,0.85,- 0.53,1.1,0.9,0.27,0.56,1.1,0.077],[- 0.034,- 2.4,0.27,0.25,2,- 0.76,- 0.82,- 1,- 0.21,1.5,0.33,- 0.64,0.86,0.15,0.028,0.31,0.82,- 0.13,1.5,0.76,- 1.2,0.39,1.3,- 0.98,- 2,1.5,- 0.9,- 0.091,- 1,2.8,0.74,0.66,- 0.39,0.51,- 0.37,- 2.5,- 0.68,- 0.28,- 2,1.3],[- 0.44,- 1.5,0.035,0.27,- 0.75,1,- 0.16,- 0.11,0.25,- 0.25,- 0.85,- 0.78,0.24,0.37,- 0.91,0.19,- 0.83,1.7,- 0.82,0.96,0.27,- 0.13,0.4,1.1,0.19,0.13,0.7,- 0.75,- 1.2,- 0.82,- 1.1,1.3,- 1.4,0.13,0.44,- 0.59,1,- 0.18,- 1.9,- 1.2],[- 0.16,- 2.6,0.44,- 1.2,- 1.1,0.85,1.6,- 0.31,- 0.45,- 0.17,0.38,0.73,0.52,0.31,- 1,1.3,0.63,- 0.0079,- 0.94,- 0.3,- 0.51,0.73,0.092,- 1.8,- 0.85,1.5,0.2,0.3,1.2,- 0.52,0.63,- 0.78,0.038,0.074,- 1.6,- 0.59,- 0.36,- 0.39,- 0.0077,- 0.91],[- 1.4,0.74,- 0.98,0.99,1,0.56,0.74,- 0.22,1.1,- 0.2,0.12,0.012,0.87,- 0.088,- 0.61,- 1.6,- 1.9,0.85,- 1.4,0.35,0.39,- 0.22,- 1.3,- 0.14,- 0.83,- 1.5,0.18,0.86,2.2,- 0.7,- 0.35,- 0.72,0.13,- 0.26,2.8,- 0.84,0.15,0.088,- 0.41,- 0.3],[- 0.39,0.3,- 0.2,0.19,- 0.86,0.68,- 1.3,- 1.2,- 0.49,0.9,- 0.28,1.5,- 0.35,0.97,0.62,- 0.36,0.081,- 0.32,0.8,1.7,1.7,- 0.42,- 0.22,1,- 0.18,1.9,0.39,- 1.3,- 1.5,- 0.36,0.12,2.4,- 0.12,0.46,- 1.2,- 0.76,- 0.36,0.51,0.18,- 0.55],[1.6,1.5,- 0.27,0.6,0.19,0.41,- 0.34,0.69,0.88,0.41,- 0.049,- 1.8,- 1.5,0.46,- 0.47,0.65,0.87,1.8,0.084,- 1,- 0.045,- 0.047,- 1.8,- 2.1,- 0.77,- 0.88,- 1.2,1.4,- 0.23,0.39,- 0.38,2.3,- 0.47,- 0.081,- 1.4,- 0.22,1.7,- 0.37,0.19,- 0.58],[- 0.38,- 0.72,- 0.42,1.2,0.11,2.2,- 0.58,- 0.26,0.25,- 0.76,- 0.025,- 0.67,1.4,0.82,- 1.5,1,1.2,- 0.22,0.12,- 1.3,0.52,- 1.6,0.2,- 0.59,0.4,- 0.089,- 1.5,- 0.14,0.54,- 0.2,- 0.75,2.8,0.44,1.5,2.1,0.94,0.77,0.75,- 1.1,1.1],[1.7,- 0.71,0.49,- 0.11,- 0.41,1.9,- 1.1,- 0.01,- 0.26,- 1.3,- 1.3,- 0.72,0.51,- 1.8,1.2,0.18,0.98,1.1,0.49,0.11,- 0.84,1.1,- 1,- 1,- 1.8,- 0.6,- 0.97,- 0.3,- 0.46,- 2,- 0.95,0.42,0.53,- 1.1,- 0.46,0.19,- 0.8,- 1.2,- 0.98,1.7],[1,- 1.9,- 0.4,- 1.6,1,0.75,- 0.17,0.82,2.9,- 0.76,- 0.71,- 0.1,- 0.93,0.92,- 0.96,0.8,0.56,- 0.36,0.73,0.68,- 1,1.1,- 0.84,0.96,0.19,0.7,0.67,1.2,- 1.8,0.11,0.041,- 0.15,- 0.57,2.4,0.057,0.49,- 0.57,1.3,0.59,- 1],[0.063,- 0.29,- 0.14,0.21,- 1.2,- 1.6,1.1,- 0.18,0.95,- 1.3,0.21,- 0.16,- 0.85,- 1.9,0.51,0.32,1.4,- 1.4,- 0.16,0.82,- 0.39,- 1.3,- 0.41,- 1.1,0.76,1.3,- 1.4,- 1.1,0.36,- 0.98,0.13,- 1,- 0.56,0.94,- 1.1,- 2.6,0.28,0.34,1.2,0.13],[- 1,0.019,- 0.1,1.1,- 1.3,- 0.64,1.3,- 0.73,- 1.6,0.72,0.39,0.24,- 1.4,- 0.52,- 0.2,- 1.8,- 1.3,0.67,0.69,- 1.9,- 0.74,- 1.2,- 0.52,- 0.025,0.022,0.097,0.04,3,0.86,- 0.96,- 1.3,1.4,- 1.9,- 1.5,- 0.4,- 0.62,0.49,0.85,- 3.8,- 0.41],[- 1.4,- 0.34,0.2,1.4,- 0.21,- 0.58,0.46,0.33,- 0.027,0.69,- 0.13,0.76,0.98,1,0.27,0.12,- 0.19,0.2,- 0.37,1.1,0.9,- 1.2,0.26,0.6,- 1.7,0.073,- 0.51,- 0.24,1.2,0.75,- 0.2,0.66,- 0.63,- 0.34,- 0.16,- 0.4,1.1,0.64,1.1,- 1.2],[1.4,- 1.8,- 0.12,- 0.26,- 1.3,- 0.45,- 0.96,- 0.17,- 0.88,- 0.18,- 0.94,0.86,0.022,- 0.065,- 1.3,- 0.93,0.47,0.59,- 0.27,0.021,0.92,0.22,- 1,- 0.32,0.12,- 0.49,- 0.65,- 0.1,- 1.3,0.095,1.4,- 0.82,- 0.47,- 0.33,- 0.056,0.54,- 1,- 1.3,- 0.47,1.1],[- 0.66,0.35,- 0.16,1.3,0.81,- 0.17,- 1,0.3,- 0.23,1.3,0.96,- 0.9,0.92,- 0.1,- 0.53,- 0.55,0.33,1.3,- 1.6,- 2.3,- 0.28,- 1.4,- 0.1,- 0.45,0.11,- 0.83,- 1,- 0.47,0.1,0.12,- 0.7,1.9,- 0.61,0.24,1.1,- 1.2,0.41,- 0.67,1,0.18],[- 1.6,- 1.3,- 0.49,0.19,1.2,- 0.42,- 0.23,- 1.3,0.93,0.96,0.62,0.12,- 0.19,0.44,- 0.28,0.5,- 0.46,- 0.34,- 1.2,- 0.42,- 0.028,0.36,- 0.064,- 1.8,- 0.82,0.8,0.9,- 0.8,3.1,0.72,- 0.21,- 0.82,0.49,- 1.2,- 1.8,0.012,- 0.37,0.18,0.5,- 2.7],[0.14,0.77,- 0.52,- 0.06,- 1.2,- 0.63,0.53,- 1.1,- 0.066,- 0.37,- 0.25,- 0.22,- 0.082,- 0.62,- 1.6,0.039,- 0.85,0.3,- 0.3,0.21,- 0.17,0.63,0.7,- 0.79,0.33,1.4,- 1.8,- 0.25,- 0.95,0.15,- 0.69,- 0.49,- 0.3,0.7,- 1.1,- 1.2,- 0.96,- 1.7,- 1.2,0.23],[- 2.6,0.075,- 0.16,- 0.53,- 0.36,- 0.18,0.66,0.47,0.69,- 0.86,- 1.1,- 0.45,0.65,0.25,0.028,0.0015,1.5,0.58,- 1.5,0.43,0.3,- 1.3,0.76,- 1.1,0.61,- 0.28,0.46,- 0.11,1.4,- 0.92,- 0.49,2,1.2,0.77,1.1,0.84,- 0.017,1.4,0.25,- 0.75],[- 0.55,2.5,0.022,0.24,- 1,0.22,2.1,0.96,- 0.49,0.75,0.61,0.87,0.66,0.083,0.36,0.017,0.56,- 0.63,1.7,0.12,- 0.37,0.071,- 1.2,- 0.37,- 0.96,- 1.2,- 0.23,1.2,- 0.87,1.1,0.21,- 1.9,1.9,0.1,0.31,0.69,1.3,0.98,0.38,0.86],[1,1.1,- 1.1,0.82,- 0.76,0.54,- 1.4,- 3,- 0.62,0.74,0.16,- 0.11,1.4,- 0.65,0.39,1.7,- 1.9,0.52,- 2,0.18,- 0.82,- 2.3,2.8,2,0.6,0.09,- 1.5,0.45,2.4,- 0.25,2,2.3,- 0.52,- 0.0025,- 1.9,- 0.76,- 0.29,0.53,- 2.4,- 0.066],[2,1,- 0.046,1.7,1.7,- 1.4,- 0.082,1.3,- 0.2,0.96,- 0.7,0.93,- 0.45,0.54,0.051,1.1,- 0.83,- 1,- 1.4,0.089,- 0.74,0.1,0.26,- 0.5,- 1.2,- 0.044,1.1,- 0.0037,- 1.1,- 0.84,- 1.2,- 1.3,- 1.5,- 1.1,1.6,0.24,1.2,- 1.5,- 0.74,- 1.3],[2.2,1.7,- 0.56,0.94,- 0.46,- 0.24,0.2,- 1.2,- 0.1,0.19,- 0.5,0.069,0.26,0.81,- 0.83,- 0.22,0.76,- 0.1,0.26,0.54,1.7,- 1.6,0.16,- 0.019,0.3,- 0.2,0.83,- 0.57,0.6,0.73,0.54,- 0.11,- 0.52,0.32,0.57,- 0.36,1.3,- 1.4,0.72,- 0.59],[1,1.3,0.4,- 0.0041,0.51,0.36,- 1.7,0.4,1.5,- 0.35,0.0038,0.24,0.12,0.76,0.84,0.75,- 1.2,- 0.31,0.18,- 1.9,- 0.58,- 1.2,3.8,0.073,- 1.2,- 0.52,- 0.56,0.12,- 0.028,1.2,- 1.4,- 0.42,0.65,- 1.3,- 0.57,- 0.3,2,0.32,1,- 0.051],[- 0.16,- 0.9,0.32,0.66,- 1.2,- 0.67,- 0.53,0.77,- 1.6,- 0.62,0.4,- 0.33,- 1.4,- 0.21,- 0.86,- 0.19,- 0.35,- 1.1,- 0.24,0.88,- 0.85,- 0.57,0.95,- 1.1,0.19,- 0.45,- 0.95,0.34,2.3,0.25,- 2,0.0073,- 0.83,- 0.25,0.058,0.49,0.58,- 0.34,0.18,- 0.83],[1.1,0.66,0.18,- 0.3,- 0.35,- 0.92,0.69,0.63,1.3,1,- 0.11,0.23,- 0.53,0.97,0.65,- 0.57,- 1.8,2.5,1.8,- 0.2,- 0.4,0.66,0.25,0.11,- 2.2,0.15,- 0.34,- 0.51,0.96,0.84,1,- 1.9,- 0.22,- 0.35,0.4,0.76,- 0.27,0.17,- 0.15,0.83],[0.13,0.075,- 0.7,- 1.1,- 0.072,1.1,0.037,0.23,- 0.0054,- 1.3,- 0.55,1.3,- 1.7,- 0.026,- 2.2,- 0.65,- 1.1,2,0.58,0.63,0.72,0.16,- 0.18,2.1,- 0.43,- 0.97,0.62,0.28,1.3,0.1,2.3,- 0.073,- 0.3,- 3.1,- 1.3,0.37,2,1.4,- 2.2,0.77],[- 0.018,0.19,0.66,0.0003,0.63,- 1.5,- 0.56,0.31,- 0.28,- 0.048,0.7,1.2,0.15,- 0.41,1.1,- 0.88,- 0.66,0.71,- 0.55,0.83,2.2,0.64,- 0.25,1.2,0.88,0.24,0.93,- 0.91,- 1,- 0.27,- 0.41,2.2,0.36,1.2,0.076,0.39,- 0.59,- 0.46,- 0.54,0.99],[0.43,- 0.52,- 0.12,- 0.15,0.45,- 0.34,1.2,0.25,- 0.68,0.97,- 0.84,2.3,2,1.1,- 1.3,- 0.77,0.65,1.5,- 0.6,1,0.38,- 0.76,- 0.014,3,- 2,0.82,- 0.068,0.67,1.1,- 1.3,0.27,- 0.83,- 2.1,- 0.6,- 0.99,- 1.4,0.79,0.22,0.13,1.3],[- 1.4,1,- 0.49,0.21,0.18,- 0.87,- 0.55,0.012,- 1,1.8,- 0.47,0.71,0.46,- 0.31,1,- 2,0.5,- 0.19,0.36,- 0.42,1.5,- 0.91,- 1.3,0.45,1.9,- 0.1,- 0.11,- 0.92,0.89,0.64,0.17,0.89,- 0.17,- 0.17,- 1.2,1.1,0.6,0.99,0.28,0.14],[1.7,0.94,1.4,1.7,- 1,- 1.8,- 1.5,1.5,1,- 0.6,0.27,- 0.27,- 0.77,0.31,0.34,1.4,- 0.36,- 2,1.2,1.5,- 1.5,- 0.2,0.29,- 0.47,- 0.27,0.018,1.2,1.1,- 2.1,- 1.4,- 0.83,- 0.28,0.48,0.25,1.2,- 1.3,- 0.31,0.41,0.059,2.2],[0.66,- 1.1,0.63,- 1.7,- 0.38,1.2,- 0.87,1,- 0.52,- 0.84,- 0.19,- 0.58,1,0.36,- 0.27,- 0.16,0.97,- 1.1,- 0.89,- 1.1,- 0.67,0.33,0.42,1.5,0.15,0.21,1.1,- 1.9,- 0.2,- 1.9,1.4,0.031,- 1.5,- 0.4,- 0.57,- 0.9,- 0.68,0.1,- 1.3,1],[- 0.71,- 0.65,0.12,1.1,1,- 0.39,1.2,0.18,- 0.23,- 0.22,- 0.72,0.044,0.17,1.8,- 1.2,- 0.17,- 0.55,- 0.5,0.16,0.17,0.71,0.49,0.59,0.6,- 0.77,- 0.57,1.1,- 0.76,0.52,- 2.5,0.69,0.97,1.5,1.3,- 0.0059,- 0.01,- 0.36,- 1.1,2.3,- 1.5],[1.6,1.7,0.76,- 1.5,0.42,0.3,- 0.66,0.27,- 0.065,1.6,- 0.77,1.2,- 0.093,- 1.1,0.68,- 0.89,0.16,2.2,- 1.6,0.58,- 1.7,1.1,0.29,0.15,0.35,0.076,0.66,- 1.1,- 0.19,- 0.75,- 0.23,2.7,- 0.83,- 0.74,1.3,0.13,- 0.42,- 0.029,0.59,0.013],[- 2,0.28,- 1.3,0.17,0.062,- 0.099,0.66,- 0.87,0.49,0.087,1.6,- 0.25,1.2,0.059,- 0.19,0.32,0.41,0.21,- 1.1,- 0.55,- 0.69,- 1.4,1.4,1,0.35,- 0.27,0.42,0.11,- 1.4,- 0.88,- 0.44,2.7,0.56,0.29,- 0.34,2,- 0.65,1.3,- 0.35,- 0.76],[0.81,- 0.083,- 0.098,- 0.37,0.45,- 0.81,- 0.22,- 1.6,1,0.029,- 1.3,0.12,1.9,- 0.27,- 1.4,0.71,0.0037,- 0.42,- 0.7,- 0.76,- 0.27,- 0.72,0.34,0.96,0.36,0.58,- 1.7,- 1.3,0.42,0.26,- 0.66,- 2.9,- 1.8,- 0.92,- 0.68,0.72,1.2,0.98,0.64,0.078],[0.24,0.37,- 0.32,0.57,0.55,0.74,0.74,1.2,0.28,0.37,- 1.2,0.32,- 0.6,0.89,1.3,- 0.63,- 0.84,2.2,0.15,0.98,0.65,0.31,- 0.92,- 0.25,- 1.8,- 0.28,- 0.3,0.81,0.95,- 2,1.1,0.93,- 2.1,- 0.88,- 0.21,- 0.39,- 0.0034,- 0.04,0.8,0.23],[0.32,- 0.81,- 1.7,0.51,0.44,1,0.65,0.49,- 1.6,- 0.16,0.59,- 0.31,- 0.85,0.32,1.2,0.3,- 0.8,- 0.17,0.3,- 1.6,- 0.34,- 0.43,- 1.2,1.2,- 1.2,- 0.33,1,1.9,1.7,0.55,- 2.4,- 1.7,0.56,- 0.2,0.81,1.3,- 1.3,1,- 0.57,0.72],[0.52,1.9,0.38,0.47,0.28,0.8,0.039,0.28,- 1.2,- 1,1.8,- 0.7,- 1.1,- 0.47,0.98,- 0.73,1,- 0.37,- 0.78,- 0.88,0.34,- 1.4,- 0.74,0.47,1.2,0.12,0.53,0.79,- 0.93,1.6,1.9,- 1.8,- 0.16,2.1,0.2,- 1.6,- 0.54,- 0.98,0.15,0.75],[0.15,1.9,0.12,0.67,0.25,0.63,0.58,0.071,- 0.09,- 0.099,- 0.13,- 0.1,0.14,1.2,- 1.4,- 2.6,- 1.3,0.5,0.52,0.2,1.6,- 0.31,0.5,0.2,0.72,- 1.6,0.38,- 0.38,- 0.15,0.31,1.3,0.82,0.059,1.3,0.29,0.37,- 1.2,- 0.94,0.84,0.036],[- 0.43,- 2.5,- 0.45,- 1.6,0.87,- 2.3,- 0.36,0.27,- 4.1,- 0.93,- 2.3,1.3,- 1.5,- 1.3,0.5,1.7,1.3,0.15,1.1,0.19,- 0.48,0.52,0.46,0.69,0.32,- 1.2,- 0.72,- 1.9,- 0.23,- 0.49,0.81,- 0.97,- 0.0034,- 0.036,1.1,- 0.22,0.56,0.6,- 0.44,0.93],[0.68,- 0.4,- 0.71,- 1.7,- 0.6,- 0.24,0.61,- 1.1,- 0.21,0.37,0.047,- 2.2,0.33,0.13,0.18,- 0.95,0.079,- 1,- 0.14,- 0.73,0.18,- 0.22,1.6,0.47,1.3,- 0.94,- 1.1,- 0.69,1.6,- 0.84,- 0.12,0.22,- 0.68,- 0.096,0.4,- 0.22,0.93,- 1,- 0.57,0.42],[0.84,0.11,0.47,0.0061,- 0.073,- 0.81,1.1,- 0.26,- 0.37,1.5,- 1.9,0.0028,- 1.1,0.85,0.52,- 0.4,- 0.05,0.71,0.17,1.7,0.28,0.0051,0.85,- 0.39,- 2.1,- 0.34,- 0.58,0.29,- 2.8,0.22,0.16,- 0.39,- 0.77,- 0.043,2.2,0.065,1.5,- 1.5,0.35,0.23],[0.24,0.52,- 1.9,- 0.43,- 0.76,0.38,- 0.55,- 0.74,- 0.28,- 0.57,- 1.1,- 0.7,1.1,1,- 1.2,- 0.076,0.95,0.39,0.012,- 1.3,0.56,- 1.2,- 1.6,- 0.37,2.4,- 0.93,- 1.1,- 1.1,0.3,0.47,- 1.1,- 0.8,0.32,- 0.54,0.16,0.54,- 0.71,0.57,0.39,- 0.068],[0.32,- 0.59,- 0.24,- 0.83,- 1.2,- 0.19,- 0.69,0.6,0.86,- 1.1,- 0.51,2.3,- 0.95,1.2,- 0.86,0.9,- 1.6,1,- 1.1,0.13,- 0.59,2.1,0.95,- 1.5,0.41,0.55,0.12,0.43,- 2.1,- 0.59,- 2.4,1.1,0.79,- 0.49,1.3,- 0.26,0.14,- 1.3,- 0.55,- 0.36],[0.73,- 1.1,- 0.71,0.11,- 1.7,- 0.58,- 0.45,- 0.41,- 0.42,1.2,- 1.9,- 0.64,- 1.6,- 0.4,0.69,- 0.87,- 0.33,0.86,1.4,- 0.69,- 1.3,- 1.3,0.84,- 1.7,- 0.25,0.21,- 1.4,- 0.14,- 0.4,- 1.7,0.43,- 1.5,0.72,- 0.19,0.26,- 0.91,- 0.96,- 0.08,- 1.3,- 0.17],[0.099,- 1.2,0.23,0.44,- 0.41,0.14,0.74,- 1.9,0.8,0.74,1.7,- 0.31,- 0.96,0.4,0.81,2.6,- 2.5,- 0.58,1,- 0.47,- 0.13,0.37,- 1.1,- 0.28,- 0.13,- 0.044,1.6,- 0.13,- 0.26,- 1.1,0.29,0.22,0.21,1,0.56,- 1.6,- 0.28,2.2,- 0.23,- 0.56],[0.056,0.087,0.098,- 0.078,- 1.6,- 0.59,- 2.4,- 0.21,1.8,0.93,1.3,- 0.81,- 0.65,- 1.5,0.59,- 0.51,- 0.66,0.22,0.28,- 0.24,0.69,0.27,- 1.3,- 0.89,- 0.64,- 0.36,- 0.2,0.054,0.59,- 0.35,- 1.1,- 0.082,1.2,0.3,0.18,0.06,1.6,1.3,0.41,- 0.4],[- 0.61,0.2,0.044,- 0.26,0.33,0.73,- 0.74,- 0.96,0.35,0.48,- 1.8,- 0.77,1.7,0.63,0.38,- 0.16,- 1.9,0.61,0.19,- 1.2,- 1,0.041,0.45,1.2,1.7,- 0.67,- 0.89,0.39,- 1.9,- 1.4,- 0.58,0.14,1.7,0.095,0.6,- 0.13,0.53,- 0.2,- 0.82,0.37],[- 0.27,1.7,- 0.55,0.96,0.28,- 0.8,1.9,0.81,- 1,- 0.84,1.4,1.3,- 0.074,- 0.89,3.1,- 0.76,0.2,- 1.1,- 0.11,0.54,0.23,- 0.15,- 1.9,1.9,- 0.1,1.3,- 2.3,- 1.2,0.15,0.34,3,1.5,- 0.41,- 0.75,1.5,- 2.5,0.82,- 0.75,0.26,- 0.035],[- 0.031,0.71,1.9,0.86,- 0.26,- 1.1,0.58,- 2.1,1.4,1.8,- 1.4,- 1.9,- 0.98,0.068,- 0.024,- 0.49,- 1.6,- 1.4,1.1,0.96,1.7,0.67,- 0.89,- 1.3,0.71,1.2,0.2,0.15,- 0.56,1.4,- 0.88,- 0.57,- 1.4,0.76,1,- 0.02,- 0.67,- 1,0.94,0.25],[- 1.3,0.012,0.18,1.7,0.86,0.17,- 0.064,0.27,0.058,0.2,- 0.73,- 0.1,- 0.43,0.15,- 0.12,2.1,0.26,1,2.6,- 0.16,0.76,- 1.1,- 1.4,0.69,- 0.56,- 0.26,1.5,0.063,- 0.7,0.59,0.62,- 0.84,0.74,1.5,- 0.66,- 1.8,1.4,0.53,- 0.92,0.44],[1.4,1.6,- 0.86,0.71,- 0.0056,- 2,0.39,1.5,0.55,1.2,- 0.61,- 1.3,0.99,- 0.045,1.8,0.85,0.26,0.039,- 1.5,- 0.69,- 0.29,0.98,0.27,- 0.23,1.3,0.46,1.1,- 0.47,- 1.1,0.42,0.58,0.71,1,- 0.28,1.5,- 1.8,- 0.77,- 0.2,0.74,- 0.58],[0.54,- 1.1,- 1,0.5,1.3,1.1,0.03,- 0.93,1.1,0.91,- 1.3,- 0.016,2.2,- 0.45,- 0.85,- 0.82,0.4,1.1,0.47,- 0.46,0.5,0.4,- 1.5,0.86,- 1.4,- 0.39,- 1.9,0.64,- 0.6,0.013,0.71,2.1,- 1.4,- 0.57,- 0.41,- 0.034,- 2.5,0.35,- 0.2,0.15],[0.032,0.41,- 0.34,- 1.1,- 0.8,0.26,- 1,1,- 1.5,0.1,0.2,1.1,1.6,- 0.62,0.66,- 0.4,- 1.2,0.055,- 0.16,- 0.28,2.1,1.5,- 0.3,1,- 0.5,0.24,0.7,1,0.064,- 1,0.65,- 0.69,0.87,0.44,0.063,0.23,0.44,- 0.55,- 1.1,- 0.46],[- 0.88,0.3,- 1.4,- 0.015,0.53,0.39,2.7,- 0.82,2.2,- 0.017,2.2,- 0.87,0.82,- 0.43,- 1.4,0.63,0.22,0.24,- 0.91,0.53,0.45,- 0.01,1.3,1.2,- 0.28,- 0.21,1.1,0.14,- 0.86,- 0.93,1.5,- 1.1,- 0.73,0.4,- 0.86,0.23,- 0.89,1.3,0.31,- 0.5],[1.8,0.85,- 0.32,1.3,- 0.24,0.16,0.22,0.6,0.25,1.2,- 0.26,- 2.2,0.06,0.71,0.27,- 0.16,- 0.83,0.7,0.45,1.6,- 0.44,1.6,- 0.18,- 0.28,- 1.6,1.6,1.4,0.16,- 1.4,0.61,- 0.64,0.27,1.5,0.42,1.8,0.4,- 1.2,- 0.046,- 0.99,0.65],[1.5,0.9,- 2.1,- 0.58,0.6,- 1.1,- 2.6,0.44,- 0.21,- 0.44,1.8,0.092,0.53,- 0.85,1.9,1.4,- 0.6,- 1.4,0.31,0.43,- 1.5,0.35,- 0.87,- 0.4,- 0.49,- 1.6,1.8,- 1.5,- 1.5,- 1.9,2.1,1.4,0.63,1.3,1.6,- 2.3,- 0.27,- 0.55,1.1,0.13],[0.42,1.8,0.92,- 0.59,- 1.9,0.034,- 1.9,0.95,- 1.1,0.97,1.2,- 1.4,- 0.74,0.5,1.3,- 0.66,1,0.44,0.87,1.8,- 0.42,- 0.11,0.65,0.71,- 0.021,0.078,- 1,- 0.34,1.1,- 0.32,- 2,- 0.36,- 0.44,0.041,- 0.37,0.59,- 0.34,0.41,0.7,1.7],[- 0.45,- 0.051,- 0.74,0.35,0.69,- 1.1,0.12,0.3,1.5,- 0.12,1.3,1.6,- 1.2,- 0.41,- 0.31,- 0.099,- 0.14,- 1.3,0.43,- 0.72,- 0.52,0.49,0.24,- 0.89,- 0.59,- 0.64,- 0.65,0.33,0.037,0.52,1.1,- 0.62,- 0.57,- 0.036,0.79,- 2.6,0.72,- 0.0043,0.82,- 1],[1.2,1.6,0.51,- 0.11,0.67,- 0.58,0.32,0.23,- 0.35,- 1.2,0.72,1.8,0.81,0.83,- 0.11,0.67,0.41,0.038,1.1,1.2,0.65,0.047,- 0.32,- 0.1,1.9,2.4,0.69,- 2.2,- 0.91,- 0.68,2.4,0.99,- 0.29,- 0.33,0.92,- 0.53,- 0.6,- 0.034,0.3,1.1],[- 0.29,0.1,- 0.17,- 1.3,- 1,- 0.42,0.52,- 0.75,1.4,2,- 1.3,- 1.8,0.72,1.9,0.0061,0.12,0.67,- 1.7,0.3,0.14,- 0.15,0.9,- 0.51,- 0.56,- 0.055,0.57,0.86,- 1.9,- 0.01,- 0.16,- 0.45,0.68,- 1.1,- 1,0.19,- 1.2,- 0.85,0.18,- 1.3,- 0.67],[3.8,1.3,0.062,- 1.6,0.59,0.21,0.78,1.9,0.6,- 0.12,- 0.39,- 0.17,1.2,- 1,1.2,0.064,- 1.3,0.13,- 0.081,0.09,0.32,- 1.4,0.056,- 0.5,0.12,0.36,0.58,- 0.067,1.1,- 0.6,1,- 2.2,- 1.6,- 0.0027,0.33,- 0.83,0.42,- 1.1,0.32,- 0.75],[- 0.48,1.6,- 0.47,- 1.2,0.29,1.6,- 0.16,- 0.35,- 1.3,- 0.51,- 0.51,- 0.84,0.56,0.62,0.68,- 0.11,- 0.14,0.44,0.039,- 0.41,- 0.73,- 0.97,- 0.38,- 0.27,- 0.41,- 0.54,0.48,- 0.75,- 0.97,0.01,- 1.2,- 0.26,0.83,- 1.7,0.0063,- 0.87,- 2.3,0.61,2.1,0.57]])\n",
    "b = np.array([[490.0],[230.0],[140.0],[600.0],[210.0],[29],[830.0],[140.0],[14],[200.0],[68],[590.0],[170.0],[700.0],[170.0],[730.0],[460.0],[27],[430.0],[600.0],[600.0],[290.0],[690.0],[62],[1100.0],[230.0],[430.0],[860.0],[950.0],[440.0],[68],[480.0],[55],[7.5],[180.0],[600.0],[750.0],[290.0],[300.0],[660.0],[870.0],[350.0],[100.0],[140.0],[220.0],[66],[180.0],[290.0],[360.0],[100.0],[130.0],[310.0],[43],[23],[260.0],[120.0],[13],[560.0],[590.0],[230.0],[14],[380.0],[770.0],[620.0],[180.0],[200.0],[510.0],[120.0],[1600.0],[210.0]])\n",
    "b = b/20.0\n",
    "print(A.shape)\n",
    "print(b.shape)"
   ]
  },
  {
   "cell_type": "markdown",
   "id": "3ab7b66c",
   "metadata": {},
   "source": [
    "# Solultion\n",
    "\n",
    "The rectange lies inside the polyhedron when for every constraint $i$:\n",
    "\n",
    "$$\\sup_{l \\preceq x \\preceq u}a_i^T x \\le b_i$$\n",
    "\n",
    "This is a convex constraint ($\\sup_y f(x,y)$ is convex when $f$ is convex for every $y$.)\n",
    "We will show that the above constraint can be phrased using two LP constraints. Indeed, it is equivalent to\n",
    "\n",
    "$$\\sum_{j=1}^n\\sup_{l_j \\le x_j \\le u_j} a_{ij} x_j \\le b_i$$\n",
    "\n",
    "A linear function defined on an interval has its maxima on the ends of the integral, hence we get\n",
    "\n",
    "$$\\sum_{j=1}^n\\max(a_{ij} u_j,a_{ij} l_j) \\le b_i$$\n",
    "\n",
    "The above is equivalent to two linear constraints in a stadard way (no need to expand it using ``cvxpy``)."
   ]
  },
  {
   "cell_type": "code",
   "execution_count": null,
   "id": "07463899",
   "metadata": {},
   "outputs": [],
   "source": [
    "import cvxpy as cp"
   ]
  },
  {
   "cell_type": "code",
   "execution_count": 3,
   "id": "47375710",
   "metadata": {},
   "outputs": [
    {
     "name": "stdout",
     "output_type": "stream",
     "text": [
      "===============================================================================\n",
      "                                     CVXPY                                     \n",
      "                                     v1.2.3                                    \n",
      "===============================================================================\n",
      "(CVXPY) Jan 29 12:55:06 PM: Your problem has 80 variables, 2 constraints, and 0 parameters.\n",
      "(CVXPY) Jan 29 12:55:06 PM: It is compliant with the following grammars: DCP, DQCP\n",
      "(CVXPY) Jan 29 12:55:06 PM: (If you need to solve this problem multiple times, but with different data, consider using parameters.)\n",
      "(CVXPY) Jan 29 12:55:06 PM: CVXPY will first compile your problem; then, it will invoke a numerical solver to obtain a solution.\n",
      "-------------------------------------------------------------------------------\n",
      "                                  Compilation                                  \n",
      "-------------------------------------------------------------------------------\n",
      "(CVXPY) Jan 29 12:55:06 PM: Compiling problem (target solver=GUROBI).\n",
      "(CVXPY) Jan 29 12:55:06 PM: Reduction chain: FlipObjective -> Dcp2Cone -> CvxAttr2Constr -> ConeMatrixStuffing -> GUROBI\n",
      "(CVXPY) Jan 29 12:55:06 PM: Applying reduction FlipObjective\n",
      "(CVXPY) Jan 29 12:55:06 PM: Applying reduction Dcp2Cone\n",
      "(CVXPY) Jan 29 12:55:06 PM: Applying reduction CvxAttr2Constr\n",
      "(CVXPY) Jan 29 12:55:06 PM: Applying reduction ConeMatrixStuffing\n",
      "(CVXPY) Jan 29 12:55:06 PM: Applying reduction GUROBI\n",
      "(CVXPY) Jan 29 12:55:06 PM: Finished problem compilation (took 3.799e-01 seconds).\n",
      "-------------------------------------------------------------------------------\n",
      "                                Numerical solver                               \n",
      "-------------------------------------------------------------------------------\n",
      "(CVXPY) Jan 29 12:55:06 PM: Invoking solver GUROBI  to obtain a solution.\n",
      "Set parameter Username\n",
      "Academic license - for non-commercial use only - expires 2023-12-29\n",
      "Set parameter QCPDual to value 1\n",
      "Gurobi Optimizer version 10.0.0 build v10.0.0rc2 (linux64)\n",
      "\n",
      "CPU model: Intel(R) Core(TM) i5-7200U CPU @ 2.50GHz, instruction set [SSE2|AVX|AVX2]\n",
      "Thread count: 2 physical cores, 4 logical processors, using up to 4 threads\n",
      "\n",
      "Optimize a model with 5833 rows, 3044 columns and 14488 nonzeros\n",
      "Model fingerprint: 0xcaed0a02\n",
      "Model has 41 quadratic constraints\n",
      "Coefficient statistics:\n",
      "  Matrix range     [3e-04, 4e+00]\n",
      "  QMatrix range    [1e+00, 1e+00]\n",
      "  Objective range  [1e+00, 1e+00]\n",
      "  Bounds range     [0e+00, 0e+00]\n",
      "  RHS range        [4e-01, 8e+01]\n",
      "Presolve time: 0.03s\n",
      "Presolved: 5833 rows, 3044 columns, 14488 nonzeros\n",
      "Presolved model has 41 second-order cone constraints\n",
      "Ordering time: 0.04s\n",
      "\n",
      "Barrier statistics:\n",
      " Free vars  : 2921\n",
      " AA' NZ     : 2.187e+05\n",
      " Factor NZ  : 6.424e+05 (roughly 9 MB of memory)\n",
      " Factor Ops : 7.471e+07 (less than 1 second per iteration)\n",
      " Threads    : 2\n",
      "\n",
      "                  Objective                Residual\n",
      "Iter       Primal          Dual         Primal    Dual     Compl     Time\n",
      "   0   0.00000000e+00  0.00000000e+00  2.16e-01 1.00e+00  6.40e-02     0s\n",
      "   1  -1.28012620e-01 -9.97808134e+00  1.59e-01 6.59e-01  4.29e-02     0s\n",
      "   2  -1.33169260e-01 -1.36362521e+01  1.01e-01 3.34e-01  2.28e-02     0s\n",
      "   3  -1.95291419e-02 -5.19845676e+00  2.39e-03 5.04e-02  3.65e-03     0s\n",
      "   4  -7.93021290e-02 -1.74726651e+00  5.81e-06 1.36e-02  1.04e-03     0s\n",
      "   5  -3.09732162e-01 -9.57906681e-01  1.56e-07 5.83e-03  4.44e-04     0s\n",
      "   6  -7.77571327e-01 -9.13272165e-01  1.51e-08 3.67e-03  2.53e-04     0s\n",
      "   7  -9.86011092e-01 -1.03040009e+00  5.58e-09 2.02e-03  1.41e-04     0s\n",
      "   8  -1.06924741e+00 -1.08644460e+00  1.54e-09 1.07e-03  7.38e-05     0s\n",
      "   9  -1.09720628e+00 -1.11317295e+00  4.38e-10 3.95e-04  2.88e-05     0s\n",
      "  10  -1.10925722e+00 -1.11910756e+00  9.86e-11 7.67e-05  6.80e-06     0s\n",
      "  11  -1.11195982e+00 -1.11679250e+00  3.19e-10 2.59e-05  2.57e-06     0s\n",
      "  12  -1.11338483e+00 -1.11465616e+00  6.10e-10 3.64e-06  4.69e-07     0s\n",
      "  13  -1.11367177e+00 -1.11413250e+00  8.18e-10 1.35e-06  1.72e-07     0s\n",
      "  14  -1.11375299e+00 -1.11382799e+00  2.13e-09 4.57e-08  1.62e-08     0s\n",
      "  15  -1.11377665e+00 -1.11378876e+00  2.90e-08 6.66e-09  2.57e-09     0s\n",
      "  16  -1.11377826e+00 -1.11377966e+00  4.79e-09 6.55e-10  2.90e-10     0s\n",
      "\n",
      "Barrier solved model in 16 iterations and 0.34 seconds (0.19 work units)\n",
      "Optimal objective -1.11377826e+00\n",
      "\n",
      "Solving KKT system to obtain QCP duals...\n",
      "\n",
      "-------------------------------------------------------------------------------\n",
      "                                    Summary                                    \n",
      "-------------------------------------------------------------------------------\n",
      "(CVXPY) Jan 29 12:55:07 PM: Problem status: optimal\n",
      "(CVXPY) Jan 29 12:55:07 PM: Optimal value: 1.114e+00\n",
      "(CVXPY) Jan 29 12:55:07 PM: Compilation took 3.799e-01 seconds\n",
      "(CVXPY) Jan 29 12:55:07 PM: Solver (including time spent in interface) took 7.122e-01 seconds\n"
     ]
    },
    {
     "data": {
      "text/plain": [
       "1.1137783258238874"
      ]
     },
     "execution_count": 3,
     "metadata": {},
     "output_type": "execute_result"
    }
   ],
   "source": [
    "u = cp.Variable(n)\n",
    "l = cp.Variable(n)\n",
    "obj = cp.Maximize(cp.geo_mean(u-l))\n",
    "#constraints = [sum(cp.maximum(A[i,j],0)*u[j]-cp.maximum(-A[i,j],0)*l[j] for j in range(n)) <= bb[i] for i in range(m)]\n",
    "#constraints = [sum(cp.maximum(A[i,j]*l[j],A[i,j]*u[j]) for j in range(n)) <= bb[i] for i in range(m)]\n",
    "constraints = [cp.reshape(sum(cp.maximum(A[:,j]*l[j],A[:,j]*u[j]) for j in range(n)),(m,1)) <= b] + [l<=u]\n",
    "prob = cp.Problem(obj,constraints)\n",
    "prob.solve(verbose=True,solver=cp.GUROBI)"
   ]
  },
  {
   "cell_type": "code",
   "execution_count": 4,
   "id": "0af00684",
   "metadata": {},
   "outputs": [
    {
     "data": {
      "text/plain": [
       "74.46470782831192"
      ]
     },
     "execution_count": 4,
     "metadata": {},
     "output_type": "execute_result"
    }
   ],
   "source": [
    "prob.value**n"
   ]
  },
  {
   "cell_type": "code",
   "execution_count": 5,
   "id": "3866a6b0",
   "metadata": {},
   "outputs": [],
   "source": [
    "for _ in range(10000):\n",
    "    v = np.random.randint(2, size=n)\n",
    "    x = np.array([[u[i].value if v[i]==0 else l[i].value for i in range(n)]]).T\n",
    "    if not all(A@x<=b):\n",
    "        print(\"Wrong solution\")"
   ]
  },
  {
   "cell_type": "code",
   "execution_count": null,
   "id": "f1ec1ed9",
   "metadata": {},
   "outputs": [],
   "source": []
  },
  {
   "cell_type": "code",
   "execution_count": null,
   "id": "ae9dc506",
   "metadata": {},
   "outputs": [],
   "source": []
  }
 ],
 "metadata": {
  "kernelspec": {
   "display_name": "Python 3 (ipykernel)",
   "language": "python",
   "name": "python3"
  },
  "language_info": {
   "codemirror_mode": {
    "name": "ipython",
    "version": 3
   },
   "file_extension": ".py",
   "mimetype": "text/x-python",
   "name": "python",
   "nbconvert_exporter": "python",
   "pygments_lexer": "ipython3",
   "version": "3.8.10"
  }
 },
 "nbformat": 4,
 "nbformat_minor": 5
}
